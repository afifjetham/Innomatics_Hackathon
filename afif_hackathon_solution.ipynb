{
 "cells": [
  {
   "cell_type": "markdown",
   "id": "1bd5759c",
   "metadata": {},
   "source": [
    "# Innomatics Research Labs"
   ]
  },
  {
   "cell_type": "markdown",
   "id": "250e946a",
   "metadata": {},
   "source": [
    "### Internship Test Part 2\n",
    "### Machine Learning Hackathon\n",
    "#### Name: Afif Jetham"
   ]
  },
  {
   "cell_type": "code",
   "execution_count": 1,
   "id": "c9cfe587",
   "metadata": {},
   "outputs": [],
   "source": [
    "# Importing all libraries required in this notebook\n",
    "import pandas as pd\n",
    "import numpy as np\n",
    "import seaborn as sns\n",
    "import matplotlib.pyplot as plt  \n",
    "%matplotlib inline\n",
    "import warnings\n",
    "warnings.filterwarnings(\"ignore\")"
   ]
  },
  {
   "cell_type": "code",
   "execution_count": 2,
   "id": "2ef8f680",
   "metadata": {},
   "outputs": [],
   "source": [
    "# Data Link - https://drive.google.com/file/d/1RHvyeH_B5-9dTGKqg90IvCP3dAzIjGSo/view"
   ]
  },
  {
   "cell_type": "code",
   "execution_count": 3,
   "id": "04367781",
   "metadata": {},
   "outputs": [],
   "source": [
    "# Reading data\n",
    "df = pd.read_csv(r'C:\\Users\\TheWhiteWolf\\Desktop\\Python Practice\\Innomatics\\data_2_var.csv', names = ['Input', 'Output'], header=None)"
   ]
  },
  {
   "cell_type": "code",
   "execution_count": 4,
   "id": "346ea9ad",
   "metadata": {},
   "outputs": [
    {
     "data": {
      "text/html": [
       "<div>\n",
       "<style scoped>\n",
       "    .dataframe tbody tr th:only-of-type {\n",
       "        vertical-align: middle;\n",
       "    }\n",
       "\n",
       "    .dataframe tbody tr th {\n",
       "        vertical-align: top;\n",
       "    }\n",
       "\n",
       "    .dataframe thead th {\n",
       "        text-align: right;\n",
       "    }\n",
       "</style>\n",
       "<table border=\"1\" class=\"dataframe\">\n",
       "  <thead>\n",
       "    <tr style=\"text-align: right;\">\n",
       "      <th></th>\n",
       "      <th>Input</th>\n",
       "      <th>Output</th>\n",
       "    </tr>\n",
       "  </thead>\n",
       "  <tbody>\n",
       "    <tr>\n",
       "      <th>0</th>\n",
       "      <td>-122.740667</td>\n",
       "      <td>-130.572085</td>\n",
       "    </tr>\n",
       "    <tr>\n",
       "      <th>1</th>\n",
       "      <td>-121.531419</td>\n",
       "      <td>-129.938929</td>\n",
       "    </tr>\n",
       "    <tr>\n",
       "      <th>2</th>\n",
       "      <td>-134.917019</td>\n",
       "      <td>-130.141832</td>\n",
       "    </tr>\n",
       "    <tr>\n",
       "      <th>3</th>\n",
       "      <td>-120.605951</td>\n",
       "      <td>-125.760932</td>\n",
       "    </tr>\n",
       "    <tr>\n",
       "      <th>4</th>\n",
       "      <td>-129.894781</td>\n",
       "      <td>-112.785214</td>\n",
       "    </tr>\n",
       "  </tbody>\n",
       "</table>\n",
       "</div>"
      ],
      "text/plain": [
       "        Input      Output\n",
       "0 -122.740667 -130.572085\n",
       "1 -121.531419 -129.938929\n",
       "2 -134.917019 -130.141832\n",
       "3 -120.605951 -125.760932\n",
       "4 -129.894781 -112.785214"
      ]
     },
     "execution_count": 4,
     "metadata": {},
     "output_type": "execute_result"
    }
   ],
   "source": [
    "# First 5 rows\n",
    "df.head()"
   ]
  },
  {
   "cell_type": "code",
   "execution_count": 5,
   "id": "11604a53",
   "metadata": {},
   "outputs": [
    {
     "data": {
      "text/plain": [
       "(1111, 2)"
      ]
     },
     "execution_count": 5,
     "metadata": {},
     "output_type": "execute_result"
    }
   ],
   "source": [
    "df.shape"
   ]
  },
  {
   "cell_type": "code",
   "execution_count": 6,
   "id": "e5d28558",
   "metadata": {},
   "outputs": [
    {
     "data": {
      "text/plain": [
       "Input     float64\n",
       "Output    float64\n",
       "dtype: object"
      ]
     },
     "execution_count": 6,
     "metadata": {},
     "output_type": "execute_result"
    }
   ],
   "source": [
    "df.dtypes"
   ]
  },
  {
   "cell_type": "code",
   "execution_count": 7,
   "id": "940f8622",
   "metadata": {},
   "outputs": [
    {
     "data": {
      "text/html": [
       "<div>\n",
       "<style scoped>\n",
       "    .dataframe tbody tr th:only-of-type {\n",
       "        vertical-align: middle;\n",
       "    }\n",
       "\n",
       "    .dataframe tbody tr th {\n",
       "        vertical-align: top;\n",
       "    }\n",
       "\n",
       "    .dataframe thead th {\n",
       "        text-align: right;\n",
       "    }\n",
       "</style>\n",
       "<table border=\"1\" class=\"dataframe\">\n",
       "  <thead>\n",
       "    <tr style=\"text-align: right;\">\n",
       "      <th></th>\n",
       "      <th>Input</th>\n",
       "      <th>Output</th>\n",
       "    </tr>\n",
       "  </thead>\n",
       "  <tbody>\n",
       "    <tr>\n",
       "      <th>count</th>\n",
       "      <td>1111.000000</td>\n",
       "      <td>1111.000000</td>\n",
       "    </tr>\n",
       "    <tr>\n",
       "      <th>mean</th>\n",
       "      <td>6.783026</td>\n",
       "      <td>-26.187358</td>\n",
       "    </tr>\n",
       "    <tr>\n",
       "      <th>std</th>\n",
       "      <td>79.383668</td>\n",
       "      <td>69.794973</td>\n",
       "    </tr>\n",
       "    <tr>\n",
       "      <th>min</th>\n",
       "      <td>-134.962839</td>\n",
       "      <td>-132.422167</td>\n",
       "    </tr>\n",
       "    <tr>\n",
       "      <th>25%</th>\n",
       "      <td>-53.521987</td>\n",
       "      <td>-77.000000</td>\n",
       "    </tr>\n",
       "    <tr>\n",
       "      <th>50%</th>\n",
       "      <td>15.737782</td>\n",
       "      <td>-46.072638</td>\n",
       "    </tr>\n",
       "    <tr>\n",
       "      <th>75%</th>\n",
       "      <td>76.134647</td>\n",
       "      <td>7.435231</td>\n",
       "    </tr>\n",
       "    <tr>\n",
       "      <th>max</th>\n",
       "      <td>134.605775</td>\n",
       "      <td>134.425495</td>\n",
       "    </tr>\n",
       "  </tbody>\n",
       "</table>\n",
       "</div>"
      ],
      "text/plain": [
       "             Input       Output\n",
       "count  1111.000000  1111.000000\n",
       "mean      6.783026   -26.187358\n",
       "std      79.383668    69.794973\n",
       "min    -134.962839  -132.422167\n",
       "25%     -53.521987   -77.000000\n",
       "50%      15.737782   -46.072638\n",
       "75%      76.134647     7.435231\n",
       "max     134.605775   134.425495"
      ]
     },
     "execution_count": 7,
     "metadata": {},
     "output_type": "execute_result"
    }
   ],
   "source": [
    "df.describe()"
   ]
  },
  {
   "cell_type": "code",
   "execution_count": 8,
   "id": "356cfd2c",
   "metadata": {},
   "outputs": [
    {
     "name": "stdout",
     "output_type": "stream",
     "text": [
      "<class 'pandas.core.frame.DataFrame'>\n",
      "RangeIndex: 1111 entries, 0 to 1110\n",
      "Data columns (total 2 columns):\n",
      " #   Column  Non-Null Count  Dtype  \n",
      "---  ------  --------------  -----  \n",
      " 0   Input   1111 non-null   float64\n",
      " 1   Output  1111 non-null   float64\n",
      "dtypes: float64(2)\n",
      "memory usage: 17.5 KB\n"
     ]
    }
   ],
   "source": [
    "df.info()"
   ]
  },
  {
   "cell_type": "code",
   "execution_count": 9,
   "id": "0051dda6",
   "metadata": {},
   "outputs": [
    {
     "data": {
      "text/plain": [
       "Input     0\n",
       "Output    0\n",
       "dtype: int64"
      ]
     },
     "execution_count": 9,
     "metadata": {},
     "output_type": "execute_result"
    }
   ],
   "source": [
    "df.isna().sum()"
   ]
  },
  {
   "cell_type": "markdown",
   "id": "d2762b65",
   "metadata": {},
   "source": [
    "There are no null values in out dataframe."
   ]
  },
  {
   "cell_type": "code",
   "execution_count": 10,
   "id": "5908bbd3",
   "metadata": {},
   "outputs": [
    {
     "data": {
      "text/plain": [
       "<AxesSubplot:xlabel='Input'>"
      ]
     },
     "execution_count": 10,
     "metadata": {},
     "output_type": "execute_result"
    },
    {
     "data": {
      "image/png": "[encoded data removed]",
      "text/plain": [
       "<Figure size 432x288 with 1 Axes>"
      ]
     },
     "metadata": {
      "needs_background": "light"
     },
     "output_type": "display_data"
    }
   ],
   "source": [
    "# Detecting Outliers for Input coloumn using Boxplot\n",
    "sns.boxplot(df['Input'])"
   ]
  },
  {
   "cell_type": "code",
   "execution_count": 11,
   "id": "790385fa",
   "metadata": {},
   "outputs": [
    {
     "data": {
      "text/plain": [
       "<AxesSubplot:xlabel='Output'>"
      ]
     },
     "execution_count": 11,
     "metadata": {},
     "output_type": "execute_result"
    },
    {
     "data": {
      "image/png": "[encoded data removed]",
      "text/plain": [
       "<Figure size 432x288 with 1 Axes>"
      ]
     },
     "metadata": {
      "needs_background": "light"
     },
     "output_type": "display_data"
    }
   ],
   "source": [
    "# Detecting Outliers for Output coloumn using Boxplot\n",
    "sns.boxplot(df['Output'])"
   ]
  },
  {
   "cell_type": "code",
   "execution_count": 12,
   "id": "019815b9",
   "metadata": {},
   "outputs": [
    {
     "name": "stdout",
     "output_type": "stream",
     "text": [
      "Old Shape:  (1111, 2)\n",
      "New Shape:  (1111, 2)\n"
     ]
    }
   ],
   "source": [
    "# Detecting the outliers for Input column using IQR and removing them.\n",
    "# IQR\n",
    "Q1 = np.percentile(df['Input'], 25,\n",
    "                   interpolation = 'midpoint')\n",
    " \n",
    "Q3 = np.percentile(df['Input'], 75,\n",
    "                   interpolation = 'midpoint')\n",
    "IQR = Q3 - Q1\n",
    " \n",
    "print(\"Old Shape: \", df.shape)\n",
    " \n",
    "# Upper bound\n",
    "upper = np.where(df['Input'] >= (Q3+1.5*IQR))\n",
    "# Lower bound\n",
    "lower = np.where(df['Input'] <= (Q1-1.5*IQR))\n",
    " \n",
    "''' Removing the Outliers '''\n",
    "df.drop(upper[0], inplace = True)\n",
    "df.drop(lower[0], inplace = True)\n",
    " \n",
    "print(\"New Shape: \", df.shape)"
   ]
  },
  {
   "cell_type": "markdown",
   "id": "8bcb27cf",
   "metadata": {},
   "source": [
    "There are no outliers in our Input data."
   ]
  },
  {
   "cell_type": "code",
   "execution_count": 13,
   "id": "22c15415",
   "metadata": {},
   "outputs": [
    {
     "name": "stdout",
     "output_type": "stream",
     "text": [
      "Old Shape:  (1111, 2)\n",
      "New Shape:  (1110, 2)\n"
     ]
    }
   ],
   "source": [
    "# Detecting the outliers for Output column using IQR and removing them.\n",
    "# IQR\n",
    "Q1 = np.percentile(df['Output'], 25,\n",
    "                   interpolation = 'midpoint')\n",
    " \n",
    "Q3 = np.percentile(df['Output'], 75,\n",
    "                   interpolation = 'midpoint')\n",
    "IQR = Q3 - Q1\n",
    " \n",
    "print(\"Old Shape: \", df.shape)\n",
    " \n",
    "# Upper bound\n",
    "upper = np.where(df['Output'] >= (Q3+1.5*IQR))\n",
    "# Lower bound\n",
    "lower = np.where(df['Output'] <= (Q1-1.5*IQR))\n",
    " \n",
    "''' Removing the Outliers '''\n",
    "df.drop(upper[0], inplace = True)\n",
    "df.drop(lower[0], inplace = True)\n",
    " \n",
    "print(\"New Shape: \", df.shape)"
   ]
  },
  {
   "cell_type": "markdown",
   "id": "361500b5",
   "metadata": {},
   "source": [
    "There was 1 outliers in our Output data which was successfully removed."
   ]
  },
  {
   "cell_type": "markdown",
   "id": "c045ec71",
   "metadata": {},
   "source": [
    "### **Preparing the data:**\n",
    "\n",
    "The next step is to divide the data into \"attributes\" (inputs) and \"labels\" (outputs)."
   ]
  },
  {
   "cell_type": "code",
   "execution_count": 14,
   "id": "6f602728",
   "metadata": {},
   "outputs": [],
   "source": [
    "X = df.iloc[:, :-1].values  \n",
    "y = df.iloc[:, 1].values"
   ]
  },
  {
   "cell_type": "code",
   "execution_count": 15,
   "id": "af90da5a",
   "metadata": {},
   "outputs": [],
   "source": [
    "## Standardization\n",
    "from sklearn import preprocessing\n",
    "X = preprocessing.StandardScaler().fit(X).transform(X)"
   ]
  },
  {
   "cell_type": "code",
   "execution_count": 16,
   "id": "c0a6f679",
   "metadata": {},
   "outputs": [
    {
     "data": {
      "text/plain": [
       "array([[-1.63166921],\n",
       "       [-1.61642498],\n",
       "       [-1.78516879],\n",
       "       [-1.60475819],\n",
       "       [-1.7218566 ]])"
      ]
     },
     "execution_count": 16,
     "metadata": {},
     "output_type": "execute_result"
    }
   ],
   "source": [
    "X[0:5]"
   ]
  },
  {
   "cell_type": "markdown",
   "id": "4f45b513",
   "metadata": {},
   "source": [
    "Now that we have our attributes and labels, the next step is to split this data into training and test sets. We'll do this by using Scikit-Learn's built-in train_test_split() method:"
   ]
  },
  {
   "cell_type": "code",
   "execution_count": 17,
   "id": "fa1f52e4",
   "metadata": {},
   "outputs": [
    {
     "name": "stdout",
     "output_type": "stream",
     "text": [
      "Train Set:  (888, 1) (888,)\n",
      "Test Set:  (222, 1) (222,)\n"
     ]
    }
   ],
   "source": [
    "from sklearn.model_selection import train_test_split\n",
    "X_train, X_test, y_train, y_test = train_test_split(X, y, test_size = 0.2, random_state = 4)\n",
    "print('Train Set: ', X_train.shape, y_train.shape)\n",
    "print('Test Set: ', X_test.shape, y_test.shape)"
   ]
  },
  {
   "cell_type": "markdown",
   "id": "27d900db",
   "metadata": {},
   "source": [
    "### **Model Creation:**\n",
    "Now that our data is preprocessed. It's time to train and test our data on different models."
   ]
  },
  {
   "cell_type": "markdown",
   "id": "af6a86d8",
   "metadata": {},
   "source": [
    "### Linear Regression Model"
   ]
  },
  {
   "cell_type": "code",
   "execution_count": 18,
   "id": "a994ca3d",
   "metadata": {},
   "outputs": [
    {
     "name": "stdout",
     "output_type": "stream",
     "text": [
      "R2 score for linear model:  0.2725025515250663\n",
      "Mean Absolute error:  46.97773363310069\n",
      "RMSE: 58.91142554077658\n"
     ]
    }
   ],
   "source": [
    "from sklearn.linear_model import LinearRegression\n",
    "from sklearn.metrics import r2_score\n",
    "from sklearn.metrics import mean_absolute_error\n",
    "from sklearn import metrics\n",
    "\n",
    "LR = LinearRegression()\n",
    "LR.fit(X_train,y_train)\n",
    "\n",
    "y_pred = LR.predict(X_test)\n",
    "\n",
    "\n",
    "R2Linear = r2_score(y_test, y_pred)\n",
    "MAELinear = mean_absolute_error(y_test,y_pred)\n",
    "RMSELinear= np.sqrt(metrics.mean_squared_error(y_test, y_pred))\n",
    "\n",
    "print('R2 score for linear model: ', R2Linear)\n",
    "print('Mean Absolute error: ', MAELinear)\n",
    "print('RMSE:', RMSELinear)"
   ]
  },
  {
   "cell_type": "markdown",
   "id": "cdc5ed1e",
   "metadata": {},
   "source": [
    "### Ridge Regression model"
   ]
  },
  {
   "cell_type": "code",
   "execution_count": 19,
   "id": "ee8486a7",
   "metadata": {},
   "outputs": [
    {
     "name": "stdout",
     "output_type": "stream",
     "text": [
      "R2 score for RidgeRegression model:  0.2673563151782804\n",
      "Mean Absolute error:  47.213473066183475\n",
      "RMSE: 59.11942479664558\n"
     ]
    }
   ],
   "source": [
    "from sklearn.linear_model import Ridge\n",
    "\n",
    "RR = Ridge(alpha=0.05, normalize=True)\n",
    "RR.fit(X_train,y_train)\n",
    "y_pred = RR.predict(X_test)\n",
    "\n",
    "R2ridge = r2_score(y_test, y_pred)\n",
    "MAEridge = mean_absolute_error(y_test,y_pred)\n",
    "RMSEridge= np.sqrt(metrics.mean_squared_error(y_test, y_pred))\n",
    "\n",
    "\n",
    "print('R2 score for RidgeRegression model: ', R2ridge)\n",
    "print('Mean Absolute error: ', MAEridge)\n",
    "print('RMSE:', RMSEridge)"
   ]
  },
  {
   "cell_type": "markdown",
   "id": "3f82de77",
   "metadata": {},
   "source": [
    "### Lasso Regression model"
   ]
  },
  {
   "cell_type": "code",
   "execution_count": 20,
   "id": "3f40ef68",
   "metadata": {},
   "outputs": [
    {
     "name": "stdout",
     "output_type": "stream",
     "text": [
      "R2 score for LassoRegression model:  0.22776041386975043\n",
      "Mean Absolute error:  48.84195253567287\n",
      "RMSE: 60.695965599644516\n"
     ]
    }
   ],
   "source": [
    "from sklearn.linear_model import Lasso\n",
    "\n",
    "LR = Lasso(alpha=0.3, normalize=True)\n",
    "LR.fit(X_train,y_train)\n",
    "\n",
    "y_pred = LR.predict(X_test)\n",
    "\n",
    "R2Lasso = r2_score(y_test, y_pred)\n",
    "MAELasso = mean_absolute_error(y_test,y_pred)\n",
    "RMSELasso= np.sqrt(metrics.mean_squared_error(y_test, y_pred))\n",
    "\n",
    "\n",
    "print('R2 score for LassoRegression model: ', R2Lasso)\n",
    "print('Mean Absolute error: ', MAELasso)\n",
    "print('RMSE:', RMSELasso)"
   ]
  },
  {
   "cell_type": "markdown",
   "id": "2e201d03",
   "metadata": {},
   "source": [
    "### Decision Tree Regressor model"
   ]
  },
  {
   "cell_type": "code",
   "execution_count": 21,
   "id": "88ae7a8b",
   "metadata": {},
   "outputs": [
    {
     "name": "stdout",
     "output_type": "stream",
     "text": [
      "R2 score for DecisionTree model:  0.7178711549320842\n",
      "Mean Absolute error:  25.290333221529362\n",
      "RMSE: 36.68660639061028\n"
     ]
    }
   ],
   "source": [
    "from sklearn.tree import DecisionTreeRegressor\n",
    "\n",
    "\n",
    "DT = DecisionTreeRegressor(max_depth=15, min_samples_leaf=100)\n",
    "\n",
    "DT.fit(X_train,y_train)\n",
    "\n",
    "y_predDT = DT.predict(X_test)\n",
    "\n",
    "R2DecisionT = r2_score(y_test, y_predDT)\n",
    "MAEDecisionT = mean_absolute_error(y_test,y_predDT)\n",
    "RMSEDecisionT= np.sqrt(metrics.mean_squared_error(y_test, y_predDT))\n",
    "\n",
    "\n",
    "print('R2 score for DecisionTree model: ', R2DecisionT)\n",
    "print('Mean Absolute error: ', MAEDecisionT)\n",
    "print('RMSE:', RMSEDecisionT)"
   ]
  },
  {
   "cell_type": "markdown",
   "id": "6774cbdf",
   "metadata": {},
   "source": [
    "### Random Forest Regressor model"
   ]
  },
  {
   "cell_type": "code",
   "execution_count": 22,
   "id": "21af95ce",
   "metadata": {},
   "outputs": [
    {
     "name": "stdout",
     "output_type": "stream",
     "text": [
      "R2 score for RandomForestRegression model:  0.6914685851182663\n",
      "Mean Absolute error:  22.872027181448477\n",
      "RMSE: 38.3648487251159\n"
     ]
    }
   ],
   "source": [
    "from sklearn.ensemble import RandomForestRegressor\n",
    "\n",
    "rf = RandomForestRegressor(n_estimators = 100, min_samples_split=5 ,max_features='sqrt', random_state =0)\n",
    "rf.fit(X_train,y_train)\n",
    "y_pred= rf.predict(X_test)\n",
    "\n",
    "\n",
    "R2RandomF = r2_score(y_test, y_pred)\n",
    "MAERandomF = mean_absolute_error(y_test,y_pred)\n",
    "RMSERandomF= np.sqrt(metrics.mean_squared_error(y_test, y_pred))\n",
    "\n",
    "\n",
    "print('R2 score for RandomForestRegression model: ', R2RandomF)\n",
    "print('Mean Absolute error: ', MAERandomF)\n",
    "print('RMSE:', RMSERandomF)"
   ]
  },
  {
   "cell_type": "markdown",
   "id": "f96cfda8",
   "metadata": {},
   "source": [
    "### XGBoost model"
   ]
  },
  {
   "cell_type": "code",
   "execution_count": 23,
   "id": "25983c2b",
   "metadata": {},
   "outputs": [
    {
     "name": "stdout",
     "output_type": "stream",
     "text": [
      "R2 score for XGB model:  0.6566647792239326\n",
      "Mean Absolute error:  22.822727264223076\n",
      "RMSE: 40.4709103445731\n"
     ]
    }
   ],
   "source": [
    "import xgboost\n",
    "\n",
    "xgb = xgboost.XGBRegressor(n_estimators=100, learning_rate=0.08, gamma=0, subsample=0.75,\n",
    "                           colsample_bytree=1, max_depth=7)\n",
    "xgb.fit(X_train,y_train)\n",
    "y_predxgb = xgb.predict(X_test)\n",
    "\n",
    "\n",
    "R2xgb = r2_score(y_test, y_predxgb )\n",
    "MAExgb = mean_absolute_error(y_test,y_predxgb)\n",
    "RMSExgb= np.sqrt(metrics.mean_squared_error(y_test, y_predxgb))\n",
    "\n",
    "\n",
    "print('R2 score for XGB model: ', R2xgb)\n",
    "print('Mean Absolute error: ', MAExgb)\n",
    "print('RMSE:', RMSExgb)"
   ]
  },
  {
   "cell_type": "code",
   "execution_count": 24,
   "id": "c2e17d92",
   "metadata": {},
   "outputs": [],
   "source": [
    "modelRMSE =  {'Models':['Linear Regression Model', 'Ridge Regression Model', 'Lasso Regression Model', 'Decision Tree Model', 'RandomForest Regressor Model','XGB Model'], 'RMSEScores':[RMSELinear,RMSEridge,RMSELasso,RMSEDecisionT,RMSERandomF,RMSExgb]}"
   ]
  },
  {
   "cell_type": "code",
   "execution_count": 25,
   "id": "8b43336c",
   "metadata": {},
   "outputs": [
    {
     "data": {
      "text/html": [
       "<div>\n",
       "<style scoped>\n",
       "    .dataframe tbody tr th:only-of-type {\n",
       "        vertical-align: middle;\n",
       "    }\n",
       "\n",
       "    .dataframe tbody tr th {\n",
       "        vertical-align: top;\n",
       "    }\n",
       "\n",
       "    .dataframe thead th {\n",
       "        text-align: right;\n",
       "    }\n",
       "</style>\n",
       "<table border=\"1\" class=\"dataframe\">\n",
       "  <thead>\n",
       "    <tr style=\"text-align: right;\">\n",
       "      <th></th>\n",
       "      <th>Models</th>\n",
       "      <th>RMSEScores</th>\n",
       "    </tr>\n",
       "  </thead>\n",
       "  <tbody>\n",
       "    <tr>\n",
       "      <th>0</th>\n",
       "      <td>Linear Regression Model</td>\n",
       "      <td>58.911426</td>\n",
       "    </tr>\n",
       "    <tr>\n",
       "      <th>1</th>\n",
       "      <td>Ridge Regression Model</td>\n",
       "      <td>59.119425</td>\n",
       "    </tr>\n",
       "    <tr>\n",
       "      <th>2</th>\n",
       "      <td>Lasso Regression Model</td>\n",
       "      <td>60.695966</td>\n",
       "    </tr>\n",
       "    <tr>\n",
       "      <th>3</th>\n",
       "      <td>Decision Tree Model</td>\n",
       "      <td>36.686606</td>\n",
       "    </tr>\n",
       "    <tr>\n",
       "      <th>4</th>\n",
       "      <td>RandomForest Regressor Model</td>\n",
       "      <td>38.364849</td>\n",
       "    </tr>\n",
       "    <tr>\n",
       "      <th>5</th>\n",
       "      <td>XGB Model</td>\n",
       "      <td>40.470910</td>\n",
       "    </tr>\n",
       "  </tbody>\n",
       "</table>\n",
       "</div>"
      ],
      "text/plain": [
       "                         Models  RMSEScores\n",
       "0       Linear Regression Model   58.911426\n",
       "1        Ridge Regression Model   59.119425\n",
       "2        Lasso Regression Model   60.695966\n",
       "3           Decision Tree Model   36.686606\n",
       "4  RandomForest Regressor Model   38.364849\n",
       "5                     XGB Model   40.470910"
      ]
     },
     "execution_count": 25,
     "metadata": {},
     "output_type": "execute_result"
    }
   ],
   "source": [
    "# Create DataFrame \n",
    "df_score = pd.DataFrame(modelRMSE) \n",
    "df_score"
   ]
  },
  {
   "cell_type": "code",
   "execution_count": 26,
   "id": "87e17363",
   "metadata": {},
   "outputs": [
    {
     "data": {
      "image/png": "[encoded data removed]",
      "text/plain": [
       "<Figure size 720x360 with 1 Axes>"
      ]
     },
     "metadata": {
      "needs_background": "light"
     },
     "output_type": "display_data"
    }
   ],
   "source": [
    "plt.figure(figsize=(10,5))\n",
    "sns.pointplot(x='Models', y='RMSEScores', data = df_score)\n",
    "plt.xticks(rotation=90);"
   ]
  },
  {
   "cell_type": "markdown",
   "id": "32b9bfc3",
   "metadata": {},
   "source": [
    "## *CONCLUSION:*"
   ]
  },
  {
   "cell_type": "markdown",
   "id": "ce036d5e",
   "metadata": {},
   "source": [
    "**The higher the R2 score, the better the performance of our model. And the lower the RMSE, the better the performance of our model. So we have Concluded that the Decision Tree Model is the best model compared to the other models in our case as it has highest R2 score and lowest RMSE than the rest of the models.**"
   ]
  },
  {
   "cell_type": "code",
   "execution_count": null,
   "id": "61aad465",
   "metadata": {},
   "outputs": [],
   "source": []
  }
 ],
 "metadata": {
  "kernelspec": {
   "display_name": "Python 3",
   "language": "python",
   "name": "python3"
  },
  "language_info": {
   "codemirror_mode": {
    "name": "ipython",
    "version": 3
   },
   "file_extension": ".py",
   "mimetype": "text/x-python",
   "name": "python",
   "nbconvert_exporter": "python",
   "pygments_lexer": "ipython3",
   "version": "3.8.8"
  }
 },
 "nbformat": 4,
 "nbformat_minor": 5
}
